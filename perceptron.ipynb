{
 "cells": [
  {
   "cell_type": "code",
   "execution_count": 56,
   "metadata": {
    "collapsed": true
   },
   "outputs": [],
   "source": [
    "import numpy as np\n",
    "class neuron:\n",
    "    w = []\n",
    "    b = 1\n",
    "    rightAns = 0\n",
    "    def __init__(self,right,num):\n",
    "        self.w = np.zeros(num)\n",
    "        self.rightAns = right\n",
    "    def forward_pass(self,input_dot):\n",
    "        result = 0\n",
    "        for i in range(0, len(self.w)):\n",
    "            result += self.w[i] * input_dot[i]\n",
    "        result += self.b\n",
    "        if result > 0:\n",
    "            return 1\n",
    "        else:\n",
    "            return 0\n",
    "    def train_single(self, example,y):    \n",
    "        yc = self.forward_pass(example)\n",
    "        if(yc != y):\n",
    "            if(yc == 0):\n",
    "                self.w = self.w + example\n",
    "                self.b = self.b + 1\n",
    "            else:\n",
    "                self.w = self.w - example\n",
    "                self.b = self.b - 1\n",
    "        return not(yc==y)\n",
    "#     def train_all(self,dots):\n",
    "#         flag = False\n",
    "#         while not flag:\n",
    "#             flag = True\n",
    "#             for dot in dots:\n",
    "#                 flag = train_single(self,dot)\n",
    "\n"
   ]
  },
  {
   "cell_type": "code",
   "execution_count": 57,
   "metadata": {},
   "outputs": [
    {
     "name": "stdout",
     "output_type": "stream",
     "text": [
      "[12.882739831990994, 99.69460991184506]\n",
      "[15.560388567226738, 101.39025518485738]\n",
      "[16.431136379075063, 97.04917092157841]\n",
      "[13.306003186222199, 100.04052534085899]\n",
      "[11.625600502239907, 101.05753227816533]\n",
      "[12.633872606934187, 97.5127306070565]\n",
      "[14.944418832795025, 98.19320058816788]\n",
      "[16.358804207535727, 99.2509968305858]\n",
      "[11.35716612368994, 102.06581241898024]\n",
      "[15.034452637418788, 97.77841465073423]\n",
      "[23.239767552836238, 107.62969140210586]\n",
      "[21.170327631831448, 109.41199142879942]\n",
      "[25.059343892920218, 108.44189691739666]\n",
      "[24.32532961145276, 111.0484822593038]\n",
      "[22.578963065746535, 109.58102229200983]\n",
      "[25.863095784363395, 108.00039027849816]\n",
      "[23.071023290826375, 109.83903898661148]\n",
      "[24.570500556265976, 112.36907130421768]\n",
      "[25.975547743910994, 112.00025804152902]\n",
      "[25.881136506226834, 107.77765938705755]\n",
      "0\n",
      "0\n",
      "0\n",
      "0\n",
      "0\n",
      "0\n",
      "0\n",
      "0\n",
      "0\n",
      "0\n",
      "0\n",
      "0\n",
      "0\n",
      "0\n",
      "0\n",
      "0\n",
      "0\n",
      "0\n",
      "0\n",
      "0\n",
      "0\n",
      "0\n",
      "0\n",
      "0\n",
      "0\n",
      "0\n",
      "0\n",
      "0\n",
      "0\n",
      "0\n",
      "0\n",
      "0\n",
      "0\n",
      "0\n",
      "0\n",
      "0\n",
      "0\n",
      "0\n",
      "0\n",
      "0\n"
     ]
    }
   ],
   "source": [
    "n = 2\n",
    "k = 2\n",
    "neurons = []\n",
    "i = 0\n",
    "f = open('dots.txt','r')\n",
    "dots = []\n",
    "for s in f.readlines():\n",
    "    st = s.rstrip().split(' ')\n",
    "    dots.append([float(x) for x in st])\n",
    "    print(dots[i])\n",
    "    i+=1\n",
    "f.close()\n",
    "i = 0\n",
    "while i <n:\n",
    "    neurons.append(neuron(i,k))\n",
    "    i+=1\n",
    "num = 0\n",
    "i = 0\n",
    "for neuron in neurons:    \n",
    "    flag = False\n",
    "    while not flag:\n",
    "        flag = True\n",
    "        for dot in dots:\n",
    "            if(i>=10):\n",
    "                num+=1\n",
    "            flag = neuron.train_single(dot,num)\n",
    "            i+=1\n",
    "for dot in dots:\n",
    "    for neuron in neurons:\n",
    "        print(neuron.forward_pass(dot))\n",
    "        \n",
    "    \n",
    "\n"
   ]
  },
  {
   "cell_type": "code",
   "execution_count": 29,
   "metadata": {},
   "outputs": [
    {
     "name": "stdout",
     "output_type": "stream",
     "text": [
      "(5, 4)\n"
     ]
    }
   ],
   "source": [
    "t = 5,4\n",
    "print(t)"
   ]
  }
 ],
 "metadata": {
  "kernelspec": {
   "display_name": "Python 3",
   "language": "python",
   "name": "python3"
  },
  "language_info": {
   "codemirror_mode": {
    "name": "ipython",
    "version": 3
   },
   "file_extension": ".py",
   "mimetype": "text/x-python",
   "name": "python",
   "nbconvert_exporter": "python",
   "pygments_lexer": "ipython3",
   "version": "3.6.3"
  }
 },
 "nbformat": 4,
 "nbformat_minor": 2
}
