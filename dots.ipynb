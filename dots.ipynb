{
 "cells": [
  {
   "cell_type": "code",
   "execution_count": 3,
   "metadata": {
    "scrolled": false
   },
   "outputs": [
    {
     "name": "stdout",
     "output_type": "stream",
     "text": [
      "centers\n",
      "[[29, 1]]\n",
      "smew\n",
      "[[1, 2, 3, 4, 5, 6], [1, 2, 3, 4, 5, 6]]\n",
      "[[29, 1], [34, 26], [4, 21], [59, 31], [9, -9], [19, 16], [44, 6]]\n",
      "len: 350\n"
     ]
    },
    {
     "data": {
      "image/png": "[encoded data removed]",
      "text/plain": [
       "<matplotlib.figure.Figure at 0x13abf0c62e8>"
      ]
     },
     "metadata": {},
     "output_type": "display_data"
    }
   ],
   "source": [
    "import numpy as np\n",
    "import random\n",
    "import math\n",
    "from matplotlib import pyplot as plt\n",
    "k = 2 #number of attr\n",
    "n = 7  #number of sets\n",
    "r = 5 #radius between klasters\n",
    "rc = 4 #radius of klasters\n",
    "numP = 50\n",
    "centers = [[]]\n",
    "i  = 0\n",
    "m = [[]]\n",
    "s = 1\n",
    "\n",
    "while i < k:\n",
    "    x = random.randint(0,100)\n",
    "    centers[0].append(x)\n",
    "    i+=1\n",
    "        \n",
    "print(\"centers\")\n",
    "print(centers)\n",
    "smew = []\n",
    "i = 0\n",
    "while i < k:\n",
    "    smew.append([])\n",
    "    smew[i]=np.arange(1,n).tolist()\n",
    "    i+=1\n",
    "i = 1\n",
    "print(\"smew\")\n",
    "print(smew)\n",
    "while i < n:\n",
    "    j = 0\n",
    "    centers.append([])\n",
    "    while j < k:    \n",
    "        dx = random.choice(smew[j])\n",
    "        s = 1 if random.random() >=0.5 else -1\n",
    "        smew[j].remove(dx)\n",
    "        nx = centers[0][j] + s*dx*r\n",
    "        centers[i].append(nx)\n",
    "        j+=1\n",
    "    i+=1\n",
    "print(centers)\n",
    "i = 0\n",
    "dots = []\n",
    "f = open('dots.txt','w')\n",
    "while i < n:\n",
    "    j = 0 \n",
    "    cloud=[]\n",
    "    while j < numP:\n",
    "        p=[]\n",
    "        m = []\n",
    "        for u in range(200):\n",
    "            m.append(random.uniform(-rc,rc))\n",
    "        p = random.sample(m,k)\n",
    "        for u in range(k):\n",
    "            p[u] = p[u]+centers[i][u]\n",
    "        s = 0\n",
    "        u = 0\n",
    "        for u in range(k):\n",
    "            s += (p[u]-centers[i][u])**2\n",
    "        s = math.sqrt(s)\n",
    "        if(s<rc):\n",
    "            j+=1\n",
    "            dots.append(p)\n",
    "            for it in p:\n",
    "                f.write(str(it)+\" \")\n",
    "            f.write(str(i)+\" \")\n",
    "            f.write('\\n')\n",
    "    i+=1\n",
    "f.close()\n",
    "colors = ['bo', 'go', 'ro', 'co', 'mo', 'yo', 'ko', 'bs', 'gs', 'rs', 'cs', 'ms', 'ys', 'ks', 'b^', 'g^', 'r^', 'c^', 'm^', 'y^', 'k^']\n",
    "print(\"len:\",len(dots))\n",
    "dots = np.array(dots)\n",
    "for i in range(n):\n",
    "    x = dots[i*numP:(i+1)*numP,0]\n",
    "    y = dots[i*numP:(i+1)*numP,1]\n",
    "    plt.plot(x,y,colors[i])\n",
    "plt.show()\n",
    "\n",
    "    \n",
    "    \n",
    "    \n",
    "    \n",
    "    \n",
    "\n",
    "\n"
   ]
  },
  {
   "cell_type": "code",
   "execution_count": null,
   "metadata": {
    "collapsed": true
   },
   "outputs": [],
   "source": []
  }
 ],
 "metadata": {
  "kernelspec": {
   "display_name": "Python 3",
   "language": "python",
   "name": "python3"
  },
  "language_info": {
   "codemirror_mode": {
    "name": "ipython",
    "version": 3
   },
   "file_extension": ".py",
   "mimetype": "text/x-python",
   "name": "python",
   "nbconvert_exporter": "python",
   "pygments_lexer": "ipython3",
   "version": "3.6.3"
  }
 },
 "nbformat": 4,
 "nbformat_minor": 2
}
